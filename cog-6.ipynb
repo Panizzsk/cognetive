{
 "cells": [
  {
   "cell_type": "code",
   "execution_count": 1,
   "metadata": {},
   "outputs": [],
   "source": [
    "import numpy as np \n",
    "import pandas as pd\n",
    "import matplotlib.pyplot as plt\n",
    "import seaborn as sns \n",
    "from scipy.stats import ttest_ind\n",
    "import math\n",
    "from scipy.stats import binom"
   ]
  },
  {
   "cell_type": "code",
   "execution_count": 2,
   "metadata": {},
   "outputs": [],
   "source": [
    "estimate_partial = pd.read_csv(\"Paper1_data_csv\\\\Partial\\\\Partial_table_estimate.csv\")\n",
    "learning_partial = pd.read_csv(\"Paper1_data_csv\\\\Partial\\\\Partial_table_learning.csv\")\n",
    "transfer_partial = pd.read_csv(\"Paper1_data_csv\\\\Partial\\\\Partial_table_transfer.csv\")\n",
    "estimate_complete = pd.read_csv(\"Paper1_data_csv\\\\Complete\\\\Complete_table_estimate.csv\")\n",
    "learning_complete = pd.read_csv(\"Paper1_data_csv\\\\Complete\\\\Complete_table_learning.csv\")\n",
    "transfer_complete = pd.read_csv(\"Paper1_data_csv\\\\Complete\\\\Complete_table_transfer.csv\")\n"
   ]
  },
  {
   "cell_type": "code",
   "execution_count": 3,
   "metadata": {},
   "outputs": [],
   "source": [
    "def rate_generator (data):\n",
    "\n",
    "    (A1, B) = (1, 3)\n",
    "    (A2, C) = (2, 4)\n",
    "\n",
    "    rate_per_temp_mnn=[]\n",
    "    rate_A1=0\n",
    "    rate_A2=0\n",
    "    rate_C =0\n",
    "    rate_B =0\n",
    "    for k in range (35):\n",
    "        for j in range (30):\n",
    "            for i in range (10):\n",
    "                if data.loc[i+10*j+300*k,'chosen']==A1:\n",
    "                    rate_A1+=1\n",
    "                elif data.loc[i+10*j+300*k,'chosen']==A2:\n",
    "                    rate_A2+=1 \n",
    "                elif data.loc[i+10*j+300*k,'chosen']==C:\n",
    "                    rate_C+=1\n",
    "                elif data.loc[i+10*j+300*k,'chosen']==B:\n",
    "                    rate_B+=1     \n",
    "            Sum_rate=rate_A1+rate_A2+rate_B+rate_C\n",
    "            if Sum_rate != 0:\n",
    "                rate_A1=rate_A1/Sum_rate\n",
    "                rate_A2=rate_A2/Sum_rate\n",
    "                rate_C=rate_C/Sum_rate\n",
    "                rate_B=rate_B/Sum_rate\n",
    "\n",
    "                rate_per_trial_tempe_mn={\"ID\":j,\"rateA1\":rate_A1,\"rateA2\":rate_A2,\"rateB\":rate_B,\"rateC\":rate_C}\n",
    "\n",
    "                rate_per_temp_mnn+=[rate_per_trial_tempe_mn]\n",
    "            \n",
    "            rate_A1=0\n",
    "            rate_A2=0\n",
    "            rate_C=0\n",
    "            rate_B=0\n",
    "            \n",
    "    return pd.DataFrame(rate_per_temp_mnn)"
   ]
  },
  {
   "cell_type": "code",
   "execution_count": 4,
   "metadata": {},
   "outputs": [],
   "source": [
    "learning_partial_rate = rate_generator(learning_partial)"
   ]
  },
  {
   "cell_type": "code",
   "execution_count": 5,
   "metadata": {},
   "outputs": [
    {
     "data": {
      "text/plain": [
       "0      1.0\n",
       "1      1.0\n",
       "2      1.0\n",
       "3      1.0\n",
       "4      1.0\n",
       "      ... \n",
       "704    1.0\n",
       "705    1.0\n",
       "706    1.0\n",
       "707    1.0\n",
       "708    1.0\n",
       "Length: 709, dtype: float64"
      ]
     },
     "execution_count": 5,
     "metadata": {},
     "output_type": "execute_result"
    }
   ],
   "source": [
    "learning_partial_rate.drop(\"ID\",axis=1).sum(axis=1)"
   ]
  },
  {
   "cell_type": "code",
   "execution_count": 6,
   "metadata": {},
   "outputs": [],
   "source": [
    "learning_rates_partial = rate_generator(learning_partial)\n",
    "# transfer_rates_partial = rate_generator(transfer_partial)\n",
    "learning_rates_complete = rate_generator(learning_complete)\n",
    "# transfer_rates_complete = rate_generator(transfer_complete)"
   ]
  },
  {
   "cell_type": "code",
   "execution_count": 7,
   "metadata": {},
   "outputs": [
    {
     "data": {
      "text/html": [
       "<div>\n",
       "<style scoped>\n",
       "    .dataframe tbody tr th:only-of-type {\n",
       "        vertical-align: middle;\n",
       "    }\n",
       "\n",
       "    .dataframe tbody tr th {\n",
       "        vertical-align: top;\n",
       "    }\n",
       "\n",
       "    .dataframe thead th {\n",
       "        text-align: right;\n",
       "    }\n",
       "</style>\n",
       "<table border=\"1\" class=\"dataframe\">\n",
       "  <thead>\n",
       "    <tr style=\"text-align: right;\">\n",
       "      <th></th>\n",
       "      <th>ID</th>\n",
       "      <th>rateA1</th>\n",
       "      <th>rateA2</th>\n",
       "      <th>rateB</th>\n",
       "      <th>rateC</th>\n",
       "    </tr>\n",
       "  </thead>\n",
       "  <tbody>\n",
       "    <tr>\n",
       "      <th>659</th>\n",
       "      <td>8</td>\n",
       "      <td>0.400000</td>\n",
       "      <td>0.400000</td>\n",
       "      <td>0.1</td>\n",
       "      <td>0.100000</td>\n",
       "    </tr>\n",
       "    <tr>\n",
       "      <th>660</th>\n",
       "      <td>9</td>\n",
       "      <td>0.300000</td>\n",
       "      <td>0.400000</td>\n",
       "      <td>0.2</td>\n",
       "      <td>0.100000</td>\n",
       "    </tr>\n",
       "    <tr>\n",
       "      <th>661</th>\n",
       "      <td>10</td>\n",
       "      <td>0.500000</td>\n",
       "      <td>0.400000</td>\n",
       "      <td>0.0</td>\n",
       "      <td>0.100000</td>\n",
       "    </tr>\n",
       "    <tr>\n",
       "      <th>662</th>\n",
       "      <td>11</td>\n",
       "      <td>0.444444</td>\n",
       "      <td>0.444444</td>\n",
       "      <td>0.0</td>\n",
       "      <td>0.111111</td>\n",
       "    </tr>\n",
       "    <tr>\n",
       "      <th>663</th>\n",
       "      <td>12</td>\n",
       "      <td>0.400000</td>\n",
       "      <td>0.100000</td>\n",
       "      <td>0.1</td>\n",
       "      <td>0.400000</td>\n",
       "    </tr>\n",
       "    <tr>\n",
       "      <th>664</th>\n",
       "      <td>13</td>\n",
       "      <td>0.300000</td>\n",
       "      <td>0.200000</td>\n",
       "      <td>0.2</td>\n",
       "      <td>0.300000</td>\n",
       "    </tr>\n",
       "    <tr>\n",
       "      <th>665</th>\n",
       "      <td>14</td>\n",
       "      <td>0.300000</td>\n",
       "      <td>0.400000</td>\n",
       "      <td>0.2</td>\n",
       "      <td>0.100000</td>\n",
       "    </tr>\n",
       "    <tr>\n",
       "      <th>666</th>\n",
       "      <td>15</td>\n",
       "      <td>0.500000</td>\n",
       "      <td>0.400000</td>\n",
       "      <td>0.0</td>\n",
       "      <td>0.100000</td>\n",
       "    </tr>\n",
       "    <tr>\n",
       "      <th>667</th>\n",
       "      <td>16</td>\n",
       "      <td>0.500000</td>\n",
       "      <td>0.500000</td>\n",
       "      <td>0.0</td>\n",
       "      <td>0.000000</td>\n",
       "    </tr>\n",
       "    <tr>\n",
       "      <th>668</th>\n",
       "      <td>17</td>\n",
       "      <td>0.500000</td>\n",
       "      <td>0.400000</td>\n",
       "      <td>0.0</td>\n",
       "      <td>0.100000</td>\n",
       "    </tr>\n",
       "    <tr>\n",
       "      <th>669</th>\n",
       "      <td>18</td>\n",
       "      <td>0.500000</td>\n",
       "      <td>0.400000</td>\n",
       "      <td>0.0</td>\n",
       "      <td>0.100000</td>\n",
       "    </tr>\n",
       "    <tr>\n",
       "      <th>670</th>\n",
       "      <td>19</td>\n",
       "      <td>0.500000</td>\n",
       "      <td>0.500000</td>\n",
       "      <td>0.0</td>\n",
       "      <td>0.000000</td>\n",
       "    </tr>\n",
       "    <tr>\n",
       "      <th>671</th>\n",
       "      <td>20</td>\n",
       "      <td>0.500000</td>\n",
       "      <td>0.400000</td>\n",
       "      <td>0.0</td>\n",
       "      <td>0.100000</td>\n",
       "    </tr>\n",
       "    <tr>\n",
       "      <th>672</th>\n",
       "      <td>21</td>\n",
       "      <td>0.600000</td>\n",
       "      <td>0.400000</td>\n",
       "      <td>0.0</td>\n",
       "      <td>0.000000</td>\n",
       "    </tr>\n",
       "    <tr>\n",
       "      <th>673</th>\n",
       "      <td>0</td>\n",
       "      <td>0.100000</td>\n",
       "      <td>0.500000</td>\n",
       "      <td>0.4</td>\n",
       "      <td>0.000000</td>\n",
       "    </tr>\n",
       "    <tr>\n",
       "      <th>674</th>\n",
       "      <td>1</td>\n",
       "      <td>0.300000</td>\n",
       "      <td>0.300000</td>\n",
       "      <td>0.2</td>\n",
       "      <td>0.200000</td>\n",
       "    </tr>\n",
       "    <tr>\n",
       "      <th>675</th>\n",
       "      <td>2</td>\n",
       "      <td>0.300000</td>\n",
       "      <td>0.500000</td>\n",
       "      <td>0.2</td>\n",
       "      <td>0.000000</td>\n",
       "    </tr>\n",
       "    <tr>\n",
       "      <th>676</th>\n",
       "      <td>3</td>\n",
       "      <td>0.400000</td>\n",
       "      <td>0.400000</td>\n",
       "      <td>0.1</td>\n",
       "      <td>0.100000</td>\n",
       "    </tr>\n",
       "    <tr>\n",
       "      <th>677</th>\n",
       "      <td>4</td>\n",
       "      <td>0.400000</td>\n",
       "      <td>0.500000</td>\n",
       "      <td>0.1</td>\n",
       "      <td>0.000000</td>\n",
       "    </tr>\n",
       "    <tr>\n",
       "      <th>678</th>\n",
       "      <td>5</td>\n",
       "      <td>0.100000</td>\n",
       "      <td>0.500000</td>\n",
       "      <td>0.4</td>\n",
       "      <td>0.000000</td>\n",
       "    </tr>\n",
       "    <tr>\n",
       "      <th>679</th>\n",
       "      <td>6</td>\n",
       "      <td>0.500000</td>\n",
       "      <td>0.400000</td>\n",
       "      <td>0.0</td>\n",
       "      <td>0.100000</td>\n",
       "    </tr>\n",
       "    <tr>\n",
       "      <th>680</th>\n",
       "      <td>7</td>\n",
       "      <td>0.500000</td>\n",
       "      <td>0.500000</td>\n",
       "      <td>0.0</td>\n",
       "      <td>0.000000</td>\n",
       "    </tr>\n",
       "    <tr>\n",
       "      <th>681</th>\n",
       "      <td>8</td>\n",
       "      <td>0.500000</td>\n",
       "      <td>0.500000</td>\n",
       "      <td>0.0</td>\n",
       "      <td>0.000000</td>\n",
       "    </tr>\n",
       "    <tr>\n",
       "      <th>682</th>\n",
       "      <td>9</td>\n",
       "      <td>0.500000</td>\n",
       "      <td>0.500000</td>\n",
       "      <td>0.0</td>\n",
       "      <td>0.000000</td>\n",
       "    </tr>\n",
       "    <tr>\n",
       "      <th>683</th>\n",
       "      <td>10</td>\n",
       "      <td>0.100000</td>\n",
       "      <td>0.500000</td>\n",
       "      <td>0.4</td>\n",
       "      <td>0.000000</td>\n",
       "    </tr>\n",
       "    <tr>\n",
       "      <th>684</th>\n",
       "      <td>11</td>\n",
       "      <td>0.100000</td>\n",
       "      <td>0.500000</td>\n",
       "      <td>0.4</td>\n",
       "      <td>0.000000</td>\n",
       "    </tr>\n",
       "    <tr>\n",
       "      <th>685</th>\n",
       "      <td>12</td>\n",
       "      <td>0.400000</td>\n",
       "      <td>0.500000</td>\n",
       "      <td>0.1</td>\n",
       "      <td>0.000000</td>\n",
       "    </tr>\n",
       "    <tr>\n",
       "      <th>686</th>\n",
       "      <td>13</td>\n",
       "      <td>0.500000</td>\n",
       "      <td>0.500000</td>\n",
       "      <td>0.0</td>\n",
       "      <td>0.000000</td>\n",
       "    </tr>\n",
       "    <tr>\n",
       "      <th>687</th>\n",
       "      <td>14</td>\n",
       "      <td>0.600000</td>\n",
       "      <td>0.400000</td>\n",
       "      <td>0.0</td>\n",
       "      <td>0.000000</td>\n",
       "    </tr>\n",
       "    <tr>\n",
       "      <th>688</th>\n",
       "      <td>0</td>\n",
       "      <td>0.200000</td>\n",
       "      <td>0.200000</td>\n",
       "      <td>0.3</td>\n",
       "      <td>0.300000</td>\n",
       "    </tr>\n",
       "    <tr>\n",
       "      <th>689</th>\n",
       "      <td>1</td>\n",
       "      <td>0.000000</td>\n",
       "      <td>0.100000</td>\n",
       "      <td>0.5</td>\n",
       "      <td>0.400000</td>\n",
       "    </tr>\n",
       "    <tr>\n",
       "      <th>690</th>\n",
       "      <td>2</td>\n",
       "      <td>0.100000</td>\n",
       "      <td>0.000000</td>\n",
       "      <td>0.4</td>\n",
       "      <td>0.500000</td>\n",
       "    </tr>\n",
       "    <tr>\n",
       "      <th>691</th>\n",
       "      <td>3</td>\n",
       "      <td>0.000000</td>\n",
       "      <td>0.100000</td>\n",
       "      <td>0.5</td>\n",
       "      <td>0.400000</td>\n",
       "    </tr>\n",
       "    <tr>\n",
       "      <th>692</th>\n",
       "      <td>4</td>\n",
       "      <td>0.500000</td>\n",
       "      <td>0.400000</td>\n",
       "      <td>0.0</td>\n",
       "      <td>0.100000</td>\n",
       "    </tr>\n",
       "    <tr>\n",
       "      <th>693</th>\n",
       "      <td>5</td>\n",
       "      <td>0.400000</td>\n",
       "      <td>0.500000</td>\n",
       "      <td>0.1</td>\n",
       "      <td>0.000000</td>\n",
       "    </tr>\n",
       "    <tr>\n",
       "      <th>694</th>\n",
       "      <td>6</td>\n",
       "      <td>0.500000</td>\n",
       "      <td>0.500000</td>\n",
       "      <td>0.0</td>\n",
       "      <td>0.000000</td>\n",
       "    </tr>\n",
       "    <tr>\n",
       "      <th>695</th>\n",
       "      <td>7</td>\n",
       "      <td>0.500000</td>\n",
       "      <td>0.500000</td>\n",
       "      <td>0.0</td>\n",
       "      <td>0.000000</td>\n",
       "    </tr>\n",
       "    <tr>\n",
       "      <th>696</th>\n",
       "      <td>8</td>\n",
       "      <td>0.500000</td>\n",
       "      <td>0.500000</td>\n",
       "      <td>0.0</td>\n",
       "      <td>0.000000</td>\n",
       "    </tr>\n",
       "    <tr>\n",
       "      <th>697</th>\n",
       "      <td>9</td>\n",
       "      <td>0.500000</td>\n",
       "      <td>0.100000</td>\n",
       "      <td>0.0</td>\n",
       "      <td>0.400000</td>\n",
       "    </tr>\n",
       "    <tr>\n",
       "      <th>698</th>\n",
       "      <td>10</td>\n",
       "      <td>0.500000</td>\n",
       "      <td>0.400000</td>\n",
       "      <td>0.0</td>\n",
       "      <td>0.100000</td>\n",
       "    </tr>\n",
       "    <tr>\n",
       "      <th>699</th>\n",
       "      <td>11</td>\n",
       "      <td>0.500000</td>\n",
       "      <td>0.500000</td>\n",
       "      <td>0.0</td>\n",
       "      <td>0.000000</td>\n",
       "    </tr>\n",
       "    <tr>\n",
       "      <th>700</th>\n",
       "      <td>12</td>\n",
       "      <td>0.500000</td>\n",
       "      <td>0.400000</td>\n",
       "      <td>0.0</td>\n",
       "      <td>0.100000</td>\n",
       "    </tr>\n",
       "    <tr>\n",
       "      <th>701</th>\n",
       "      <td>13</td>\n",
       "      <td>0.500000</td>\n",
       "      <td>0.500000</td>\n",
       "      <td>0.0</td>\n",
       "      <td>0.000000</td>\n",
       "    </tr>\n",
       "    <tr>\n",
       "      <th>702</th>\n",
       "      <td>14</td>\n",
       "      <td>0.400000</td>\n",
       "      <td>0.500000</td>\n",
       "      <td>0.1</td>\n",
       "      <td>0.000000</td>\n",
       "    </tr>\n",
       "    <tr>\n",
       "      <th>703</th>\n",
       "      <td>15</td>\n",
       "      <td>0.500000</td>\n",
       "      <td>0.500000</td>\n",
       "      <td>0.0</td>\n",
       "      <td>0.000000</td>\n",
       "    </tr>\n",
       "    <tr>\n",
       "      <th>704</th>\n",
       "      <td>16</td>\n",
       "      <td>0.500000</td>\n",
       "      <td>0.500000</td>\n",
       "      <td>0.0</td>\n",
       "      <td>0.000000</td>\n",
       "    </tr>\n",
       "    <tr>\n",
       "      <th>705</th>\n",
       "      <td>17</td>\n",
       "      <td>0.500000</td>\n",
       "      <td>0.500000</td>\n",
       "      <td>0.0</td>\n",
       "      <td>0.000000</td>\n",
       "    </tr>\n",
       "    <tr>\n",
       "      <th>706</th>\n",
       "      <td>18</td>\n",
       "      <td>0.500000</td>\n",
       "      <td>0.500000</td>\n",
       "      <td>0.0</td>\n",
       "      <td>0.000000</td>\n",
       "    </tr>\n",
       "    <tr>\n",
       "      <th>707</th>\n",
       "      <td>19</td>\n",
       "      <td>0.500000</td>\n",
       "      <td>0.500000</td>\n",
       "      <td>0.0</td>\n",
       "      <td>0.000000</td>\n",
       "    </tr>\n",
       "    <tr>\n",
       "      <th>708</th>\n",
       "      <td>20</td>\n",
       "      <td>0.571429</td>\n",
       "      <td>0.285714</td>\n",
       "      <td>0.0</td>\n",
       "      <td>0.142857</td>\n",
       "    </tr>\n",
       "  </tbody>\n",
       "</table>\n",
       "</div>"
      ],
      "text/plain": [
       "     ID    rateA1    rateA2  rateB     rateC\n",
       "659   8  0.400000  0.400000    0.1  0.100000\n",
       "660   9  0.300000  0.400000    0.2  0.100000\n",
       "661  10  0.500000  0.400000    0.0  0.100000\n",
       "662  11  0.444444  0.444444    0.0  0.111111\n",
       "663  12  0.400000  0.100000    0.1  0.400000\n",
       "664  13  0.300000  0.200000    0.2  0.300000\n",
       "665  14  0.300000  0.400000    0.2  0.100000\n",
       "666  15  0.500000  0.400000    0.0  0.100000\n",
       "667  16  0.500000  0.500000    0.0  0.000000\n",
       "668  17  0.500000  0.400000    0.0  0.100000\n",
       "669  18  0.500000  0.400000    0.0  0.100000\n",
       "670  19  0.500000  0.500000    0.0  0.000000\n",
       "671  20  0.500000  0.400000    0.0  0.100000\n",
       "672  21  0.600000  0.400000    0.0  0.000000\n",
       "673   0  0.100000  0.500000    0.4  0.000000\n",
       "674   1  0.300000  0.300000    0.2  0.200000\n",
       "675   2  0.300000  0.500000    0.2  0.000000\n",
       "676   3  0.400000  0.400000    0.1  0.100000\n",
       "677   4  0.400000  0.500000    0.1  0.000000\n",
       "678   5  0.100000  0.500000    0.4  0.000000\n",
       "679   6  0.500000  0.400000    0.0  0.100000\n",
       "680   7  0.500000  0.500000    0.0  0.000000\n",
       "681   8  0.500000  0.500000    0.0  0.000000\n",
       "682   9  0.500000  0.500000    0.0  0.000000\n",
       "683  10  0.100000  0.500000    0.4  0.000000\n",
       "684  11  0.100000  0.500000    0.4  0.000000\n",
       "685  12  0.400000  0.500000    0.1  0.000000\n",
       "686  13  0.500000  0.500000    0.0  0.000000\n",
       "687  14  0.600000  0.400000    0.0  0.000000\n",
       "688   0  0.200000  0.200000    0.3  0.300000\n",
       "689   1  0.000000  0.100000    0.5  0.400000\n",
       "690   2  0.100000  0.000000    0.4  0.500000\n",
       "691   3  0.000000  0.100000    0.5  0.400000\n",
       "692   4  0.500000  0.400000    0.0  0.100000\n",
       "693   5  0.400000  0.500000    0.1  0.000000\n",
       "694   6  0.500000  0.500000    0.0  0.000000\n",
       "695   7  0.500000  0.500000    0.0  0.000000\n",
       "696   8  0.500000  0.500000    0.0  0.000000\n",
       "697   9  0.500000  0.100000    0.0  0.400000\n",
       "698  10  0.500000  0.400000    0.0  0.100000\n",
       "699  11  0.500000  0.500000    0.0  0.000000\n",
       "700  12  0.500000  0.400000    0.0  0.100000\n",
       "701  13  0.500000  0.500000    0.0  0.000000\n",
       "702  14  0.400000  0.500000    0.1  0.000000\n",
       "703  15  0.500000  0.500000    0.0  0.000000\n",
       "704  16  0.500000  0.500000    0.0  0.000000\n",
       "705  17  0.500000  0.500000    0.0  0.000000\n",
       "706  18  0.500000  0.500000    0.0  0.000000\n",
       "707  19  0.500000  0.500000    0.0  0.000000\n",
       "708  20  0.571429  0.285714    0.0  0.142857"
      ]
     },
     "execution_count": 7,
     "metadata": {},
     "output_type": "execute_result"
    }
   ],
   "source": [
    "learning_rates_partial.tail(50)"
   ]
  },
  {
   "cell_type": "code",
   "execution_count": 8,
   "metadata": {},
   "outputs": [
    {
     "data": {
      "text/html": [
       "<div>\n",
       "<style scoped>\n",
       "    .dataframe tbody tr th:only-of-type {\n",
       "        vertical-align: middle;\n",
       "    }\n",
       "\n",
       "    .dataframe tbody tr th {\n",
       "        vertical-align: top;\n",
       "    }\n",
       "\n",
       "    .dataframe thead th {\n",
       "        text-align: right;\n",
       "    }\n",
       "</style>\n",
       "<table border=\"1\" class=\"dataframe\">\n",
       "  <thead>\n",
       "    <tr style=\"text-align: right;\">\n",
       "      <th></th>\n",
       "      <th>rateA1</th>\n",
       "      <th>rateA2</th>\n",
       "      <th>rateB</th>\n",
       "      <th>rateC</th>\n",
       "    </tr>\n",
       "    <tr>\n",
       "      <th>ID</th>\n",
       "      <th></th>\n",
       "      <th></th>\n",
       "      <th></th>\n",
       "      <th></th>\n",
       "    </tr>\n",
       "  </thead>\n",
       "  <tbody>\n",
       "    <tr>\n",
       "      <th>0.0</th>\n",
       "      <td>0.276825</td>\n",
       "      <td>0.291429</td>\n",
       "      <td>0.221587</td>\n",
       "      <td>0.210159</td>\n",
       "    </tr>\n",
       "    <tr>\n",
       "      <th>1.0</th>\n",
       "      <td>0.293968</td>\n",
       "      <td>0.292698</td>\n",
       "      <td>0.209206</td>\n",
       "      <td>0.204127</td>\n",
       "    </tr>\n",
       "    <tr>\n",
       "      <th>2.0</th>\n",
       "      <td>0.328889</td>\n",
       "      <td>0.361270</td>\n",
       "      <td>0.172698</td>\n",
       "      <td>0.137143</td>\n",
       "    </tr>\n",
       "    <tr>\n",
       "      <th>3.0</th>\n",
       "      <td>0.337143</td>\n",
       "      <td>0.371429</td>\n",
       "      <td>0.162857</td>\n",
       "      <td>0.128571</td>\n",
       "    </tr>\n",
       "    <tr>\n",
       "      <th>4.0</th>\n",
       "      <td>0.342857</td>\n",
       "      <td>0.388571</td>\n",
       "      <td>0.157143</td>\n",
       "      <td>0.111429</td>\n",
       "    </tr>\n",
       "    <tr>\n",
       "      <th>5.0</th>\n",
       "      <td>0.358413</td>\n",
       "      <td>0.433016</td>\n",
       "      <td>0.140000</td>\n",
       "      <td>0.068571</td>\n",
       "    </tr>\n",
       "    <tr>\n",
       "      <th>6.0</th>\n",
       "      <td>0.345714</td>\n",
       "      <td>0.414286</td>\n",
       "      <td>0.154286</td>\n",
       "      <td>0.085714</td>\n",
       "    </tr>\n",
       "    <tr>\n",
       "      <th>7.0</th>\n",
       "      <td>0.382857</td>\n",
       "      <td>0.405714</td>\n",
       "      <td>0.117143</td>\n",
       "      <td>0.094286</td>\n",
       "    </tr>\n",
       "    <tr>\n",
       "      <th>8.0</th>\n",
       "      <td>0.362857</td>\n",
       "      <td>0.414286</td>\n",
       "      <td>0.137143</td>\n",
       "      <td>0.085714</td>\n",
       "    </tr>\n",
       "    <tr>\n",
       "      <th>9.0</th>\n",
       "      <td>0.394286</td>\n",
       "      <td>0.408571</td>\n",
       "      <td>0.105714</td>\n",
       "      <td>0.091429</td>\n",
       "    </tr>\n",
       "    <tr>\n",
       "      <th>10.0</th>\n",
       "      <td>0.376471</td>\n",
       "      <td>0.409804</td>\n",
       "      <td>0.118627</td>\n",
       "      <td>0.095098</td>\n",
       "    </tr>\n",
       "    <tr>\n",
       "      <th>11.0</th>\n",
       "      <td>0.335125</td>\n",
       "      <td>0.438351</td>\n",
       "      <td>0.145161</td>\n",
       "      <td>0.081362</td>\n",
       "    </tr>\n",
       "    <tr>\n",
       "      <th>12.0</th>\n",
       "      <td>0.368966</td>\n",
       "      <td>0.427586</td>\n",
       "      <td>0.127586</td>\n",
       "      <td>0.075862</td>\n",
       "    </tr>\n",
       "    <tr>\n",
       "      <th>13.0</th>\n",
       "      <td>0.364286</td>\n",
       "      <td>0.410714</td>\n",
       "      <td>0.139286</td>\n",
       "      <td>0.085714</td>\n",
       "    </tr>\n",
       "    <tr>\n",
       "      <th>14.0</th>\n",
       "      <td>0.396154</td>\n",
       "      <td>0.442308</td>\n",
       "      <td>0.107692</td>\n",
       "      <td>0.053846</td>\n",
       "    </tr>\n",
       "    <tr>\n",
       "      <th>15.0</th>\n",
       "      <td>0.418056</td>\n",
       "      <td>0.401852</td>\n",
       "      <td>0.086574</td>\n",
       "      <td>0.093519</td>\n",
       "    </tr>\n",
       "    <tr>\n",
       "      <th>16.0</th>\n",
       "      <td>0.386364</td>\n",
       "      <td>0.459091</td>\n",
       "      <td>0.109091</td>\n",
       "      <td>0.045455</td>\n",
       "    </tr>\n",
       "    <tr>\n",
       "      <th>17.0</th>\n",
       "      <td>0.390476</td>\n",
       "      <td>0.442857</td>\n",
       "      <td>0.109524</td>\n",
       "      <td>0.057143</td>\n",
       "    </tr>\n",
       "    <tr>\n",
       "      <th>18.0</th>\n",
       "      <td>0.438095</td>\n",
       "      <td>0.447619</td>\n",
       "      <td>0.061905</td>\n",
       "      <td>0.052381</td>\n",
       "    </tr>\n",
       "    <tr>\n",
       "      <th>19.0</th>\n",
       "      <td>0.400000</td>\n",
       "      <td>0.466667</td>\n",
       "      <td>0.100000</td>\n",
       "      <td>0.033333</td>\n",
       "    </tr>\n",
       "    <tr>\n",
       "      <th>20.0</th>\n",
       "      <td>0.384354</td>\n",
       "      <td>0.446939</td>\n",
       "      <td>0.095238</td>\n",
       "      <td>0.073469</td>\n",
       "    </tr>\n",
       "    <tr>\n",
       "      <th>21.0</th>\n",
       "      <td>0.426316</td>\n",
       "      <td>0.457895</td>\n",
       "      <td>0.084211</td>\n",
       "      <td>0.031579</td>\n",
       "    </tr>\n",
       "    <tr>\n",
       "      <th>22.0</th>\n",
       "      <td>0.431250</td>\n",
       "      <td>0.468750</td>\n",
       "      <td>0.068750</td>\n",
       "      <td>0.031250</td>\n",
       "    </tr>\n",
       "    <tr>\n",
       "      <th>23.0</th>\n",
       "      <td>0.433333</td>\n",
       "      <td>0.466667</td>\n",
       "      <td>0.066667</td>\n",
       "      <td>0.033333</td>\n",
       "    </tr>\n",
       "    <tr>\n",
       "      <th>24.0</th>\n",
       "      <td>0.412500</td>\n",
       "      <td>0.475000</td>\n",
       "      <td>0.100000</td>\n",
       "      <td>0.012500</td>\n",
       "    </tr>\n",
       "    <tr>\n",
       "      <th>25.0</th>\n",
       "      <td>0.376190</td>\n",
       "      <td>0.509524</td>\n",
       "      <td>0.100000</td>\n",
       "      <td>0.014286</td>\n",
       "    </tr>\n",
       "    <tr>\n",
       "      <th>26.0</th>\n",
       "      <td>0.300000</td>\n",
       "      <td>0.383333</td>\n",
       "      <td>0.200000</td>\n",
       "      <td>0.116667</td>\n",
       "    </tr>\n",
       "    <tr>\n",
       "      <th>27.0</th>\n",
       "      <td>0.355556</td>\n",
       "      <td>0.400000</td>\n",
       "      <td>0.172222</td>\n",
       "      <td>0.072222</td>\n",
       "    </tr>\n",
       "    <tr>\n",
       "      <th>28.0</th>\n",
       "      <td>0.300000</td>\n",
       "      <td>0.420000</td>\n",
       "      <td>0.200000</td>\n",
       "      <td>0.080000</td>\n",
       "    </tr>\n",
       "    <tr>\n",
       "      <th>29.0</th>\n",
       "      <td>0.435000</td>\n",
       "      <td>0.480000</td>\n",
       "      <td>0.065000</td>\n",
       "      <td>0.020000</td>\n",
       "    </tr>\n",
       "  </tbody>\n",
       "</table>\n",
       "</div>"
      ],
      "text/plain": [
       "        rateA1    rateA2     rateB     rateC\n",
       "ID                                          \n",
       "0.0   0.276825  0.291429  0.221587  0.210159\n",
       "1.0   0.293968  0.292698  0.209206  0.204127\n",
       "2.0   0.328889  0.361270  0.172698  0.137143\n",
       "3.0   0.337143  0.371429  0.162857  0.128571\n",
       "4.0   0.342857  0.388571  0.157143  0.111429\n",
       "5.0   0.358413  0.433016  0.140000  0.068571\n",
       "6.0   0.345714  0.414286  0.154286  0.085714\n",
       "7.0   0.382857  0.405714  0.117143  0.094286\n",
       "8.0   0.362857  0.414286  0.137143  0.085714\n",
       "9.0   0.394286  0.408571  0.105714  0.091429\n",
       "10.0  0.376471  0.409804  0.118627  0.095098\n",
       "11.0  0.335125  0.438351  0.145161  0.081362\n",
       "12.0  0.368966  0.427586  0.127586  0.075862\n",
       "13.0  0.364286  0.410714  0.139286  0.085714\n",
       "14.0  0.396154  0.442308  0.107692  0.053846\n",
       "15.0  0.418056  0.401852  0.086574  0.093519\n",
       "16.0  0.386364  0.459091  0.109091  0.045455\n",
       "17.0  0.390476  0.442857  0.109524  0.057143\n",
       "18.0  0.438095  0.447619  0.061905  0.052381\n",
       "19.0  0.400000  0.466667  0.100000  0.033333\n",
       "20.0  0.384354  0.446939  0.095238  0.073469\n",
       "21.0  0.426316  0.457895  0.084211  0.031579\n",
       "22.0  0.431250  0.468750  0.068750  0.031250\n",
       "23.0  0.433333  0.466667  0.066667  0.033333\n",
       "24.0  0.412500  0.475000  0.100000  0.012500\n",
       "25.0  0.376190  0.509524  0.100000  0.014286\n",
       "26.0  0.300000  0.383333  0.200000  0.116667\n",
       "27.0  0.355556  0.400000  0.172222  0.072222\n",
       "28.0  0.300000  0.420000  0.200000  0.080000\n",
       "29.0  0.435000  0.480000  0.065000  0.020000"
      ]
     },
     "execution_count": 8,
     "metadata": {},
     "output_type": "execute_result"
    }
   ],
   "source": [
    "# merging trials by its mean\n",
    "\n",
    "learning_rates_partial.sort_values(\"ID\", inplace=True)\n",
    "\n",
    "data_to_plot_partial = pd.DataFrame([])\n",
    "\n",
    "for i in range(30):\n",
    "    data = learning_rates_partial.loc[learning_rates_partial.ID == i]\n",
    "    data = data.mean(axis=0)\n",
    "    data_to_plot_partial = pd.concat([data_to_plot_partial,data],axis=1) \n",
    "\n",
    "data_to_plot_partial = data_to_plot_partial.T\n",
    "# data_to_plot_partial = data_to_plot_partial.drop([\"count\",\"ID\"],axis=1)\n",
    "data_to_plot_partial = data_to_plot_partial.set_index(\"ID\")\n",
    "data_to_plot_partial"
   ]
  },
  {
   "cell_type": "code",
   "execution_count": 9,
   "metadata": {},
   "outputs": [],
   "source": [
    "learning_rates_complete.sort_values(\"ID\" ,inplace=True)\n",
    "\n",
    "data_to_plot_complete = pd.DataFrame([])\n",
    "for i in range(30):\n",
    "    h=learning_rates_complete.loc[:,\"ID\"]==i \n",
    "    S=learning_rates_complete.loc[h]\n",
    "    S=S.mean(axis=0)\n",
    "    data_to_plot_complete = pd.concat([data_to_plot_complete,S],axis=1)\n",
    "\n",
    "data_to_plot_complete = data_to_plot_complete.T\n",
    "# data_to_plot_complete = data_to_plot_complete.drop([\"count\",\"ID\"],axis=1)\n",
    "data_to_plot_complete = data_to_plot_complete.set_index(\"ID\")"
   ]
  },
  {
   "cell_type": "code",
   "execution_count": 11,
   "metadata": {},
   "outputs": [
    {
     "data": {
      "image/png": "[encoded data removed]",
      "text/plain": [
       "<Figure size 432x288 with 1 Axes>"
      ]
     },
     "metadata": {
      "needs_background": "light"
     },
     "output_type": "display_data"
    }
   ],
   "source": [
    "plt.plot(data_to_plot_partial.index,data_to_plot_partial[\"rateA1\"],label = \"A1\")\n",
    "plt.plot(data_to_plot_partial.index,data_to_plot_partial[\"rateB\"],label = \"B\")\n",
    "plt.legend()\n",
    "plt.show()"
   ]
  },
  {
   "cell_type": "code",
   "execution_count": 12,
   "metadata": {},
   "outputs": [
    {
     "data": {
      "image/png": "[encoded data removed]",
      "text/plain": [
       "<Figure size 432x288 with 1 Axes>"
      ]
     },
     "metadata": {
      "needs_background": "light"
     },
     "output_type": "display_data"
    }
   ],
   "source": [
    "plt.plot(data_to_plot_partial.index,data_to_plot_partial[\"rateA2\"],label = \"A2\")\n",
    "plt.plot(data_to_plot_partial.index,data_to_plot_partial[\"rateC\"],label = \"C\")\n",
    "plt.legend()\n",
    "plt.show()"
   ]
  },
  {
   "cell_type": "code",
   "execution_count": 13,
   "metadata": {},
   "outputs": [
    {
     "data": {
      "image/png": "[encoded data removed]",
      "text/plain": [
       "<Figure size 432x288 with 1 Axes>"
      ]
     },
     "metadata": {
      "needs_background": "light"
     },
     "output_type": "display_data"
    }
   ],
   "source": [
    "plt.plot(data_to_plot_complete.index,data_to_plot_complete[\"rateA1\"],label = \"A1\")\n",
    "plt.plot(data_to_plot_complete.index,data_to_plot_complete[\"rateB\"],label = \"B\")\n",
    "plt.legend()\n",
    "plt.show()"
   ]
  },
  {
   "cell_type": "code",
   "execution_count": 14,
   "metadata": {},
   "outputs": [
    {
     "data": {
      "image/png": "[encoded data removed]",
      "text/plain": [
       "<Figure size 432x288 with 1 Axes>"
      ]
     },
     "metadata": {
      "needs_background": "light"
     },
     "output_type": "display_data"
    }
   ],
   "source": [
    "plt.plot(data_to_plot_complete.index,data_to_plot_complete[\"rateA2\"],label = \"A2\")\n",
    "plt.plot(data_to_plot_complete.index,data_to_plot_complete[\"rateC\"],label = \"C\")\n",
    "plt.legend()\n",
    "plt.show()"
   ]
  },
  {
   "cell_type": "code",
   "execution_count": 15,
   "metadata": {},
   "outputs": [],
   "source": [
    "y_A1_mean_partial,y_A2_mean_partial,y_B_mean_partial,y_C_mean_partial = data_to_plot_partial.rateA1.mean(), data_to_plot_partial.rateA2.mean(), data_to_plot_partial.rateB.mean(), data_to_plot_partial.rateC.mean()\n",
    "y_A1_mean_complete,y_A2_mean_complete,y_B_mean_complete,y_C_mean_complete = data_to_plot_complete.rateA1.mean(), data_to_plot_complete.rateA2.mean(), data_to_plot_complete.rateB.mean(), data_to_plot_complete.rateC.mean()"
   ]
  },
  {
   "cell_type": "code",
   "execution_count": 16,
   "metadata": {},
   "outputs": [
    {
     "data": {
      "text/plain": [
       "<BarContainer object of 4 artists>"
      ]
     },
     "execution_count": 16,
     "metadata": {},
     "output_type": "execute_result"
    },
    {
     "data": {
      "image/png": "[encoded data removed]",
      "text/plain": [
       "<Figure size 432x288 with 1 Axes>"
      ]
     },
     "metadata": {
      "needs_background": "light"
     },
     "output_type": "display_data"
    }
   ],
   "source": [
    "plt.bar([0,1,2,3],height=[y_A1_mean_partial,y_A2_mean_partial,y_B_mean_partial,y_C_mean_partial])"
   ]
  },
  {
   "cell_type": "code",
   "execution_count": 17,
   "metadata": {},
   "outputs": [
    {
     "data": {
      "text/plain": [
       "<BarContainer object of 4 artists>"
      ]
     },
     "execution_count": 17,
     "metadata": {},
     "output_type": "execute_result"
    },
    {
     "data": {
      "image/png": "[encoded data removed]",
      "text/plain": [
       "<Figure size 432x288 with 1 Axes>"
      ]
     },
     "metadata": {
      "needs_background": "light"
     },
     "output_type": "display_data"
    }
   ],
   "source": [
    "plt.bar([0,1,2,3],height=[y_A1_mean_complete,y_A2_mean_complete,y_B_mean_complete,y_C_mean_complete])"
   ]
  },
  {
   "cell_type": "code",
   "execution_count": 18,
   "metadata": {},
   "outputs": [],
   "source": [
    "learning_rates2_partial = learning_rates_partial.drop([\"ID\"], axis=1)\n",
    "learning_rates2_complete = learning_rates_complete.drop([\"ID\"], axis=1)"
   ]
  },
  {
   "cell_type": "code",
   "execution_count": 19,
   "metadata": {},
   "outputs": [
    {
     "data": {
      "image/png": "[encoded data removed]",
      "text/plain": [
       "<Figure size 432x288 with 1 Axes>"
      ]
     },
     "metadata": {
      "needs_background": "light"
     },
     "output_type": "display_data"
    }
   ],
   "source": [
    "# ci=\"sd\" for confidence\n",
    "ax = sns.barplot(data=learning_rates2_partial, ci=\"sd\",palette=[\"green\",\"lime\",\"darkgreen\",\"limegreen\"])"
   ]
  },
  {
   "cell_type": "code",
   "execution_count": 20,
   "metadata": {},
   "outputs": [
    {
     "data": {
      "image/png": "[encoded data removed]",
      "text/plain": [
       "<Figure size 432x288 with 1 Axes>"
      ]
     },
     "metadata": {
      "needs_background": "light"
     },
     "output_type": "display_data"
    }
   ],
   "source": [
    "ax = sns.barplot(data=learning_rates2_complete, ci=\"sd\",palette=[\"green\",\"lime\",\"darkgreen\",\"limegreen\"])"
   ]
  },
  {
   "cell_type": "code",
   "execution_count": 21,
   "metadata": {},
   "outputs": [
    {
     "data": {
      "image/png": "[encoded data removed]",
      "text/plain": [
       "<Figure size 432x288 with 1 Axes>"
      ]
     },
     "metadata": {
      "needs_background": "light"
     },
     "output_type": "display_data"
    }
   ],
   "source": [
    "ax = sns.barplot(data=learning_rates2_partial,palette=[\"green\",\"lime\",\"darkgreen\",\"limegreen\"])"
   ]
  },
  {
   "cell_type": "code",
   "execution_count": 22,
   "metadata": {},
   "outputs": [
    {
     "data": {
      "image/png": "[encoded data removed]",
      "text/plain": [
       "<Figure size 432x288 with 1 Axes>"
      ]
     },
     "metadata": {
      "needs_background": "light"
     },
     "output_type": "display_data"
    }
   ],
   "source": [
    "ax = sns.barplot(data=learning_rates2_complete,palette=[\"green\",\"lime\",\"darkgreen\",\"limegreen\"])"
   ]
  },
  {
   "cell_type": "code",
   "execution_count": 23,
   "metadata": {},
   "outputs": [
    {
     "data": {
      "text/html": [
       "<div>\n",
       "<style scoped>\n",
       "    .dataframe tbody tr th:only-of-type {\n",
       "        vertical-align: middle;\n",
       "    }\n",
       "\n",
       "    .dataframe tbody tr th {\n",
       "        vertical-align: top;\n",
       "    }\n",
       "\n",
       "    .dataframe thead th {\n",
       "        text-align: right;\n",
       "    }\n",
       "</style>\n",
       "<table border=\"1\" class=\"dataframe\">\n",
       "  <thead>\n",
       "    <tr style=\"text-align: right;\">\n",
       "      <th></th>\n",
       "      <th>ID</th>\n",
       "      <th>rateA1</th>\n",
       "      <th>rateA2</th>\n",
       "      <th>rateB</th>\n",
       "      <th>rateC</th>\n",
       "    </tr>\n",
       "  </thead>\n",
       "  <tbody>\n",
       "    <tr>\n",
       "      <th>0</th>\n",
       "      <td>0</td>\n",
       "      <td>0.3</td>\n",
       "      <td>0.3</td>\n",
       "      <td>0.2</td>\n",
       "      <td>0.2</td>\n",
       "    </tr>\n",
       "    <tr>\n",
       "      <th>693</th>\n",
       "      <td>0</td>\n",
       "      <td>0.5</td>\n",
       "      <td>0.4</td>\n",
       "      <td>0.0</td>\n",
       "      <td>0.1</td>\n",
       "    </tr>\n",
       "    <tr>\n",
       "      <th>300</th>\n",
       "      <td>0</td>\n",
       "      <td>0.3</td>\n",
       "      <td>0.4</td>\n",
       "      <td>0.2</td>\n",
       "      <td>0.1</td>\n",
       "    </tr>\n",
       "    <tr>\n",
       "      <th>39</th>\n",
       "      <td>0</td>\n",
       "      <td>0.5</td>\n",
       "      <td>0.2</td>\n",
       "      <td>0.0</td>\n",
       "      <td>0.3</td>\n",
       "    </tr>\n",
       "    <tr>\n",
       "      <th>416</th>\n",
       "      <td>0</td>\n",
       "      <td>0.3</td>\n",
       "      <td>0.4</td>\n",
       "      <td>0.2</td>\n",
       "      <td>0.1</td>\n",
       "    </tr>\n",
       "    <tr>\n",
       "      <th>...</th>\n",
       "      <td>...</td>\n",
       "      <td>...</td>\n",
       "      <td>...</td>\n",
       "      <td>...</td>\n",
       "      <td>...</td>\n",
       "    </tr>\n",
       "    <tr>\n",
       "      <th>109</th>\n",
       "      <td>29</td>\n",
       "      <td>0.5</td>\n",
       "      <td>0.5</td>\n",
       "      <td>0.0</td>\n",
       "      <td>0.0</td>\n",
       "    </tr>\n",
       "    <tr>\n",
       "      <th>499</th>\n",
       "      <td>29</td>\n",
       "      <td>0.5</td>\n",
       "      <td>0.5</td>\n",
       "      <td>0.0</td>\n",
       "      <td>0.0</td>\n",
       "    </tr>\n",
       "    <tr>\n",
       "      <th>667</th>\n",
       "      <td>29</td>\n",
       "      <td>0.5</td>\n",
       "      <td>0.5</td>\n",
       "      <td>0.0</td>\n",
       "      <td>0.0</td>\n",
       "    </tr>\n",
       "    <tr>\n",
       "      <th>415</th>\n",
       "      <td>29</td>\n",
       "      <td>0.5</td>\n",
       "      <td>0.5</td>\n",
       "      <td>0.0</td>\n",
       "      <td>0.0</td>\n",
       "    </tr>\n",
       "    <tr>\n",
       "      <th>733</th>\n",
       "      <td>29</td>\n",
       "      <td>0.5</td>\n",
       "      <td>0.5</td>\n",
       "      <td>0.0</td>\n",
       "      <td>0.0</td>\n",
       "    </tr>\n",
       "  </tbody>\n",
       "</table>\n",
       "<p>734 rows × 5 columns</p>\n",
       "</div>"
      ],
      "text/plain": [
       "     ID  rateA1  rateA2  rateB  rateC\n",
       "0     0     0.3     0.3    0.2    0.2\n",
       "693   0     0.5     0.4    0.0    0.1\n",
       "300   0     0.3     0.4    0.2    0.1\n",
       "39    0     0.5     0.2    0.0    0.3\n",
       "416   0     0.3     0.4    0.2    0.1\n",
       "..   ..     ...     ...    ...    ...\n",
       "109  29     0.5     0.5    0.0    0.0\n",
       "499  29     0.5     0.5    0.0    0.0\n",
       "667  29     0.5     0.5    0.0    0.0\n",
       "415  29     0.5     0.5    0.0    0.0\n",
       "733  29     0.5     0.5    0.0    0.0\n",
       "\n",
       "[734 rows x 5 columns]"
      ]
     },
     "execution_count": 23,
     "metadata": {},
     "output_type": "execute_result"
    }
   ],
   "source": [
    "learning_rates_complete"
   ]
  },
  {
   "cell_type": "code",
   "execution_count": 24,
   "metadata": {},
   "outputs": [
    {
     "data": {
      "text/plain": [
       "<BarContainer object of 4 artists>"
      ]
     },
     "execution_count": 24,
     "metadata": {},
     "output_type": "execute_result"
    },
    {
     "data": {
      "image/png": "[encoded data removed]",
      "text/plain": [
       "<Figure size 432x288 with 1 Axes>"
      ]
     },
     "metadata": {
      "needs_background": "light"
     },
     "output_type": "display_data"
    }
   ],
   "source": [
    "plt.bar([0,1,2,3],height=[y_A1_mean_partial,y_A2_mean_partial,y_B_mean_partial,y_C_mean_partial])"
   ]
  },
  {
   "cell_type": "code",
   "execution_count": 25,
   "metadata": {},
   "outputs": [
    {
     "data": {
      "text/plain": [
       "<BarContainer object of 2 artists>"
      ]
     },
     "execution_count": 25,
     "metadata": {},
     "output_type": "execute_result"
    },
    {
     "data": {
      "image/png": "[encoded data removed]",
      "text/plain": [
       "<Figure size 432x288 with 1 Axes>"
      ]
     },
     "metadata": {
      "needs_background": "light"
     },
     "output_type": "display_data"
    }
   ],
   "source": [
    "plt.bar([0,1],height=[y_A1_mean_partial,y_A2_mean_partial])"
   ]
  },
  {
   "cell_type": "code",
   "execution_count": 26,
   "metadata": {},
   "outputs": [],
   "source": [
    "y_A1_partial,y_A2_partial,y_B_partial,y_C_partial = data_to_plot_partial.rateA1, data_to_plot_partial.rateA2, data_to_plot_partial.rateB, data_to_plot_partial.rateC\n",
    "y_A1_complete,y_A2_complete,y_B_complete,y_C_complete = data_to_plot_complete.rateA1, data_to_plot_complete.rateA2, data_to_plot_complete.rateB, data_to_plot_complete.rateC"
   ]
  },
  {
   "cell_type": "code",
   "execution_count": 27,
   "metadata": {},
   "outputs": [
    {
     "data": {
      "text/plain": [
       "<BarContainer object of 2 artists>"
      ]
     },
     "execution_count": 27,
     "metadata": {},
     "output_type": "execute_result"
    },
    {
     "data": {
      "image/png": "[encoded data removed]",
      "text/plain": [
       "<Figure size 432x288 with 1 Axes>"
      ]
     },
     "metadata": {
      "needs_background": "light"
     },
     "output_type": "display_data"
    }
   ],
   "source": [
    "plt.bar([0,1],height=[y_A1_mean_complete,y_A2_mean_complete])"
   ]
  },
  {
   "cell_type": "code",
   "execution_count": 28,
   "metadata": {},
   "outputs": [
    {
     "data": {
      "text/plain": [
       "0.0001307703055104325"
      ]
     },
     "execution_count": 28,
     "metadata": {},
     "output_type": "execute_result"
    }
   ],
   "source": [
    "t_stat_partial, p_val_partial = ttest_ind(y_A2_partial,y_A1_partial)\n",
    "p_val_partial\n"
   ]
  },
  {
   "cell_type": "code",
   "execution_count": 29,
   "metadata": {},
   "outputs": [
    {
     "data": {
      "text/plain": [
       "1.318737580572685e-05"
      ]
     },
     "execution_count": 29,
     "metadata": {},
     "output_type": "execute_result"
    }
   ],
   "source": [
    "t_stat_complete, p_val_complete = ttest_ind(y_A2_complete,y_A1_complete)\n",
    "p_val_complete\n"
   ]
  },
  {
   "cell_type": "code",
   "execution_count": 30,
   "metadata": {},
   "outputs": [
    {
     "data": {
      "text/plain": [
       "0.00011758292970470564"
      ]
     },
     "execution_count": 30,
     "metadata": {},
     "output_type": "execute_result"
    }
   ],
   "source": [
    "p_val_partial - p_val_complete \n"
   ]
  },
  {
   "cell_type": "code",
   "execution_count": 31,
   "metadata": {},
   "outputs": [],
   "source": [
    "mean, var, skew, kurt = binom.stats(y_A1_mean_partial, y_A2_mean_partial, moments='mvsk')"
   ]
  },
  {
   "cell_type": "code",
   "execution_count": 32,
   "metadata": {},
   "outputs": [
    {
     "data": {
      "text/plain": [
       "0.9720900412845634"
      ]
     },
     "execution_count": 32,
     "metadata": {},
     "output_type": "execute_result"
    }
   ],
   "source": [
    "from scipy.special import binom, comb\n",
    "bio_par = binom(y_A1_partial, y_A2_partial).mean()\n",
    "bio_par"
   ]
  },
  {
   "cell_type": "code",
   "execution_count": 33,
   "metadata": {},
   "outputs": [
    {
     "data": {
      "text/plain": [
       "0.96880737105371"
      ]
     },
     "execution_count": 33,
     "metadata": {},
     "output_type": "execute_result"
    }
   ],
   "source": [
    "bio_comp = binom(y_A1_complete, y_A2_complete).mean()\n",
    "bio_comp"
   ]
  },
  {
   "cell_type": "code",
   "execution_count": 34,
   "metadata": {},
   "outputs": [
    {
     "data": {
      "text/plain": [
       "-0.0032826702308534905"
      ]
     },
     "execution_count": 34,
     "metadata": {},
     "output_type": "execute_result"
    }
   ],
   "source": [
    "bio_comp - bio_par"
   ]
  },
  {
   "cell_type": "code",
   "execution_count": 35,
   "metadata": {},
   "outputs": [
    {
     "data": {
      "text/plain": [
       "TtestResult(statistic=-4.098914960272108, pvalue=0.0001307703055104325, df=58.0)"
      ]
     },
     "execution_count": 35,
     "metadata": {},
     "output_type": "execute_result"
    }
   ],
   "source": [
    "var_A1 = np.array(y_A1_partial).var()\n",
    "var_A2 = np.array(y_A2_partial).var()\n",
    "var_C = np.array(y_C_partial).var()\n",
    "var_B = np.array(y_B_partial).var()\n",
    "T = ttest_ind(y_A1_partial,y_A2_partial)\n",
    "T"
   ]
  },
  {
   "cell_type": "code",
   "execution_count": 36,
   "metadata": {},
   "outputs": [
    {
     "data": {
      "text/plain": [
       "ConfidenceInterval(low=-0.07362019065195625, high=-0.025308208541665034)"
      ]
     },
     "execution_count": 36,
     "metadata": {},
     "output_type": "execute_result"
    }
   ],
   "source": [
    "T.confidence_interval()"
   ]
  },
  {
   "cell_type": "code",
   "execution_count": 37,
   "metadata": {},
   "outputs": [
    {
     "data": {
      "text/plain": [
       "TtestResult(statistic=-4.762384390269549, pvalue=1.318737580572685e-05, df=58.0)"
      ]
     },
     "execution_count": 37,
     "metadata": {},
     "output_type": "execute_result"
    }
   ],
   "source": [
    "T = ttest_ind(y_A1_complete,y_A2_complete)\n",
    "T"
   ]
  },
  {
   "cell_type": "code",
   "execution_count": 38,
   "metadata": {},
   "outputs": [
    {
     "data": {
      "text/plain": [
       "TtestResult(statistic=-4.762384390269549, pvalue=1.318737580572685e-05, df=58.0)"
      ]
     },
     "execution_count": 38,
     "metadata": {},
     "output_type": "execute_result"
    }
   ],
   "source": [
    "T.confidence_interval()\n",
    "T"
   ]
  },
  {
   "cell_type": "code",
   "execution_count": null,
   "metadata": {},
   "outputs": [],
   "source": []
  }
 ],
 "metadata": {
  "kernelspec": {
   "display_name": "Python 3",
   "language": "python",
   "name": "python3"
  },
  "language_info": {
   "codemirror_mode": {
    "name": "ipython",
    "version": 3
   },
   "file_extension": ".py",
   "mimetype": "text/x-python",
   "name": "python",
   "nbconvert_exporter": "python",
   "pygments_lexer": "ipython3",
   "version": "3.10.0"
  }
 },
 "nbformat": 4,
 "nbformat_minor": 2
}
